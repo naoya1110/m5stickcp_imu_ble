{
 "cells": [
  {
   "cell_type": "code",
   "execution_count": 3,
   "metadata": {},
   "outputs": [],
   "source": [
    "import serial"
   ]
  },
  {
   "cell_type": "code",
   "execution_count": 2,
   "metadata": {},
   "outputs": [
    {
     "name": "stdout",
     "output_type": "stream",
     "text": [
      "Collecting pyserial\n",
      "  Using cached pyserial-3.5-py2.py3-none-any.whl (90 kB)\n",
      "Installing collected packages: pyserial\n",
      "Successfully installed pyserial-3.5\n"
     ]
    },
    {
     "name": "stderr",
     "output_type": "stream",
     "text": [
      "WARNING: You are using pip version 21.3.1; however, version 22.3.1 is available.\n",
      "You should consider upgrading via the 'c:\\Users\\iwamoto\\workspace_ssd\\virtualenvironments\\venv202201\\Scripts\\python.exe -m pip install --upgrade pip' command.\n"
     ]
    }
   ],
   "source": [
    "! python -m pip install pyserial"
   ]
  },
  {
   "cell_type": "code",
   "execution_count": 17,
   "metadata": {},
   "outputs": [
    {
     "name": "stdout",
     "output_type": "stream",
     "text": [
      "COM3 - USB Serial Port (COM3)\n",
      "COM4 - Bluetooth リンク経由の標準シリアル (COM4)\n",
      "COM5 - Bluetooth リンク経由の標準シリアル (COM5)\n"
     ]
    }
   ],
   "source": [
    "from serial.tools import list_ports\n",
    "\n",
    "ports = list_ports.comports()    # ポートデータを取得\n",
    "\n",
    "for port in ports:\n",
    "    print(port)"
   ]
  },
  {
   "cell_type": "code",
   "execution_count": 21,
   "metadata": {},
   "outputs": [
    {
     "name": "stdout",
     "output_type": "stream",
     "text": [
      "16\t50309\t-0.57\t 0.83\t 0.05\t -0.06\t -0.12\t  0.49\n",
      "\n",
      "17\t50227\t-0.56\t 0.83\t 0.05\t  0.92\t -1.28\t -0.24\n",
      "\n",
      "18\t50232\t-0.56\t 0.83\t 0.04\t -0.18\t -0.31\t  0.31\n",
      "\n",
      "19\t50212\t-0.57\t 0.83\t 0.05\t -2.14\t -0.79\t -0.67\n",
      "\n",
      "20\t50231\t-0.56\t 0.83\t 0.05\t -0.98\t -0.67\t  0.06\n",
      "\n",
      "21\t50246\t-0.56\t 0.83\t 0.05\t -0.12\t  0.31\t  0.79\n",
      "\n",
      "22\t50239\t-0.56\t 0.83\t 0.05\t -0.67\t -0.73\t  0.12\n",
      "\n",
      "23\t50225\t-0.56\t 0.82\t 0.05\t -0.55\t -0.73\t  0.43\n",
      "\n",
      "24\t50230\t-0.56\t 0.82\t 0.05\t -1.16\t -0.49\t  0.43\n",
      "\n",
      "25\t50226\t-0.56\t 0.83\t 0.03\t -1.04\t -0.85\t  0.43\n",
      "\n"
     ]
    }
   ],
   "source": [
    "with serial.Serial('COM4', 9600, timeout=1) as ser:\n",
    "    for i in range(10):\n",
    "        line = ser.readline()   # read a '\\n' terminated line\n",
    "        print(line.decode())"
   ]
  },
  {
   "cell_type": "code",
   "execution_count": 1,
   "metadata": {},
   "outputs": [],
   "source": [
    "import matplotlib.pyplot as plt\n",
    "import numpy as np"
   ]
  },
  {
   "cell_type": "code",
   "execution_count": 6,
   "metadata": {},
   "outputs": [
    {
     "data": {
      "text/plain": [
       "[<matplotlib.lines.Line2D at 0x1f89f245720>]"
      ]
     },
     "execution_count": 6,
     "metadata": {},
     "output_type": "execute_result"
    },
    {
     "data": {
      "image/png": "[encoded data removed]",
      "text/plain": [
       "<Figure size 432x288 with 2 Axes>"
      ]
     },
     "metadata": {
      "needs_background": "light"
     },
     "output_type": "display_data"
    }
   ],
   "source": [
    "x = np.arange(0, 10, 0.1)\n",
    "y = np.sin(x)\n",
    "\n",
    "fig, axes = plt.subplots(2, 1)\n",
    "\n",
    "ax_gyro = axes[0]\n",
    "ax_gyro.plot(x, y)\n",
    "\n",
    "ax_acc = axes[1]\n",
    "ax_acc.plot(x, -y)"
   ]
  },
  {
   "cell_type": "code",
   "execution_count": null,
   "metadata": {},
   "outputs": [],
   "source": []
  }
 ],
 "metadata": {
  "kernelspec": {
   "display_name": "venv202201",
   "language": "python",
   "name": "python3"
  },
  "language_info": {
   "codemirror_mode": {
    "name": "ipython",
    "version": 3
   },
   "file_extension": ".py",
   "mimetype": "text/x-python",
   "name": "python",
   "nbconvert_exporter": "python",
   "pygments_lexer": "ipython3",
   "version": "3.10.6"
  },
  "orig_nbformat": 4,
  "vscode": {
   "interpreter": {
    "hash": "5188437cffe0987d5615d61526644396c7de053165de44dfe06aff5b797d41e3"
   }
  }
 },
 "nbformat": 4,
 "nbformat_minor": 2
}
